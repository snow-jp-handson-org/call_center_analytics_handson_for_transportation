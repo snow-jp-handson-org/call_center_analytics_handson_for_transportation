{
 "cells": [
  {
   "cell_type": "markdown",
   "id": "ce110000-1111-2222-3333-ffffff000000",
   "metadata": {
    "collapsed": false,
    "name": "cell1"
   },
   "source": [
    "# AI_TRANSCRIBEを活用した高度なコールセンター分析\n",
    "\n",
    "このノートブックでは、SnowflakeのAI_TRANSCRIBE関数と他のCortex AI関数を組み合わせて、コールセンターの音声ファイルから価値あるインサイトを抽出する強力な方法を紹介します。ここでは、以下のことを行います。\n",
    "\n",
    "-   新しい`AI_TRANSCRIBE`関数を使用して音声ファイルを**文字起こし**する\n",
    "-   Cortex Completeを使用して通話のパターンと傾向を**分析**する\n",
    "-   構造化されたプロンプトを使用して主要な指標とインサイトを**抽出**する\n",
    "-   目的、緊急度、満足度によって通話を**分類**する\n",
    "-   異常や改善の機会を**発見**する\n",
    "-   コールセンター最適化のための実用的な推奨事項を**生成**する\n",
    "\n",
    "## AI_TRANSCRIBEの主な特徴\n",
    "- 最新のAIモデルによる高品質な文字起こし\n",
    "- 40以上の言語に対応\n",
    "- 最大ファイルサイズ：700 MB\n",
    "- 最大録音時間：90分\n",
    "- .mp3 および .wav 形式をサポート"
   ]
  },
  {
   "cell_type": "code",
   "execution_count": null,
   "id": "ce110000-1111-2222-3333-ffffff000001",
   "metadata": {
    "language": "python",
    "name": "cell2"
   },
   "outputs": [],
   "source": [
    "# Import required packages\n",
    "import pandas as pd\n",
    "import json\n",
    "import numpy as np\n",
    "import time\n",
    "from datetime import datetime, timedelta\n",
    "import streamlit as st\n",
    "\n",
    "from snowflake.snowpark import Session, DataFrame\n",
    "from snowflake.snowpark import functions as F\n",
    "from snowflake.snowpark import types as T\n",
    "from snowflake.snowpark.version import VERSION\n",
    "\n",
    "# Get active session\n",
    "session = get_active_session()\n",
    "session.use_role(\"accountadmin\")\n",
    "session.use_schema(\"analytics\")\n",
    "\n",
    "# Add query tag for monitoring\n",
    "session.query_tag = {\"origin\":\"sf_sit\", \"name\":\"call_center_analytics_2\", \"version\":{\"major\":1, \"minor\":0}, \"attributes\":{\"is_quickstart\":1, \"source\":\"notebook\"}}\n",
    "\n",
    "print(f\"❄️ Snowflake Session Details:\")\n",
    "print(f\"Role: {session.get_current_role()}\")\n",
    "print(f\"Warehouse: {session.get_current_warehouse()}\")\n",
    "print(f\"Database.Schema: {session.get_fully_qualified_current_schema()}\")\n",
    "print(f\"Snowpark Version: {VERSION}\")\n"
   ]
  },
  {
   "cell_type": "markdown",
   "id": "ce110000-1111-2222-3333-ffffff000006",
   "metadata": {
    "collapsed": false,
    "name": "cell4"
   },
   "source": [
    "## AI_TRANSCRIBEによる音声ファイルの文字起こし\n",
    "\n",
    "ここでは、`AI_TRANSCRIBE`を使用して音声ファイルをテキストに変換します。FILEオブジェクトを格納するテーブルを作成し、バッチで処理します。\n",
    "\n",
    "![img](https://lh3.googleusercontent.com/pw/AP1GczPInKocH8DMpk8nK8zCXKOxOU-g_hdO5sIDc8eCfipwTT_bf5VhIoPhcXbCKSyXvGDZvD2LTPYKRIkExCOiExqrChP3nuyj8DNztIcmEP18fJclD0IMFFEoNfr-s20RcAzblBSzYfdxeodB__qC66Y=w2676-h1508-s-no-gm?authuser=0)"
   ]
  },
  {
   "cell_type": "code",
   "execution_count": null,
   "metadata": {
    "vscode": {
     "languageId": "sql"
    }
   },
   "outputs": [],
   "source": [
    "alter stage audio_files_ja refresh;\n",
    "list @audio_files_ja;"
   ]
  },
  {
   "cell_type": "code",
   "execution_count": null,
   "id": "ce110000-1111-2222-3333-ffffff000007",
   "metadata": {
    "language": "sql",
    "name": "cell5",
    "vscode": {
     "languageId": "sql"
    }
   },
   "outputs": [],
   "source": [
    "-- AI_TRANSCRIBEを実行するための FILE オブジェクトを含むテーブルを作成する\n",
    "CREATE OR REPLACE TABLE audio_files_for_transcription_ja AS\n",
    "SELECT \n",
    "    RELATIVE_PATH as file_path,\n",
    "    TO_FILE('@audio_files_ja', RELATIVE_PATH) as audio_file,\n",
    "    SIZE as file_size_bytes,\n",
    "    LAST_MODIFIED as upload_time,\n",
    "    SPLIT_PART(RELATIVE_PATH, '.', -1) as file_extension,\n",
    "    REPLACE(RELATIVE_PATH, '.mp3', '') as call_id\n",
    "FROM DIRECTORY('@audio_files_ja')\n",
    "WHERE RELATIVE_PATH ILIKE '%.mp3' OR RELATIVE_PATH ILIKE '%.wav';\n"
   ]
  },
  {
   "cell_type": "code",
   "execution_count": null,
   "id": "ce110000-1111-2222-3333-ffffff000008",
   "metadata": {
    "language": "sql",
    "name": "cell6",
    "vscode": {
     "languageId": "sql"
    }
   },
   "outputs": [],
   "source": [
    "-- AI 文字起こしを実行し、結果を保存する\n",
    "-- 🎙️ AI 文字起こしプロセスを開始します...\n",
    "CREATE OR REPLACE TABLE ai_transcribed_calls_ja AS\n",
    "SELECT \n",
    "    call_id,\n",
    "    file_path,\n",
    "    file_size_bytes,\n",
    "    upload_time,\n",
    "    AI_TRANSCRIBE(audio_file) as transcription_result,\n",
    "    transcription_result:text::STRING as transcript_text,\n",
    "    CURRENT_TIMESTAMP() as transcription_timestamp,\n",
    "    LENGTH(transcription_result:text::STRING) as transcript_length,\n",
    "    CASE \n",
    "        WHEN transcription_result:text IS NULL THEN 'FAILED'\n",
    "        WHEN LENGTH(transcription_result:text::STRING) < 10 THEN 'SHORT'\n",
    "        ELSE 'SUCCESS'\n",
    "    END as transcription_status\n",
    "FROM audio_files_for_transcription_ja\n",
    "ORDER BY file_size_bytes ASC;  \n",
    "\n",
    "-- 大体40-60sで完了"
   ]
  },
  {
   "cell_type": "code",
   "execution_count": null,
   "id": "74edfc83-d96b-4e6c-8a07-b88af4131bfc",
   "metadata": {
    "language": "sql",
    "name": "cell19",
    "vscode": {
     "languageId": "sql"
    }
   },
   "outputs": [],
   "source": [
    "-- 内容を確認する\n",
    "select * from ai_transcribed_calls_ja;"
   ]
  },
  {
   "cell_type": "code",
   "execution_count": null,
   "id": "42831e4d-3d2e-47cb-af7d-b098ead98717",
   "metadata": {
    "language": "python",
    "name": "cell7"
   },
   "outputs": [],
   "source": [
    "# サンプルのオーディオ ファイルを再生してみましょう\n",
    "# Snowflake ノートブックでは、Streamlit コンポーネントを直接使用できます\n",
    "stage_path = \"@call_center_analytics_db.analytics.audio_files_ja/CALL_20250728_10050_ja.mp3\"\n",
    "\n",
    "try:\n",
    "    # 内部ステージからオーディオ ファイルを読み取ります\n",
    "    with session.file.get_stream(stage_path) as f:\n",
    "        audio_bytes = f.read()\n",
    "\n",
    "    # st.audio を使用して MP3 を再生します\n",
    "    # MP3 の形式を「audio/mpeg」として指定します\n",
    "    st.audio(audio_bytes, format=\"audio/mpeg\", start_time=0)\n",
    "\n",
    "    st.success(f\"Successfully loaded and playing: {stage_path}\")\n",
    "\n",
    "except Exception as e:\n",
    "    st.error(f\"Error loading or playing audio: {e}\")\n",
    "    st.info(\"Please ensure the audio file exists on the stage and the stage path is correct.\")"
   ]
  },
  {
   "cell_type": "code",
   "execution_count": null,
   "id": "517aa989-753a-4795-a669-0f7d4c90b6a5",
   "metadata": {
    "language": "sql",
    "name": "cell8",
    "vscode": {
     "languageId": "sql"
    }
   },
   "outputs": [],
   "source": [
    "-- トランスクリプトの例を表示\n",
    "SELECT\n",
    "    transcript_text\n",
    "FROM ai_transcribed_calls_ja\n",
    "WHERE call_id = 'CALL_20250728_10050_ja';"
   ]
  },
  {
   "cell_type": "code",
   "execution_count": null,
   "id": "ce110000-1111-2222-3333-ffffff000009",
   "metadata": {
    "language": "sql",
    "name": "cell9",
    "vscode": {
     "languageId": "sql"
    }
   },
   "outputs": [],
   "source": [
    "-- 文字起こし結果のサマリーを表示\n",
    "SELECT \n",
    "    transcription_status,\n",
    "    COUNT(*) as call_count,\n",
    "    AVG(transcript_length) as avg_transcript_length\n",
    "FROM ai_transcribed_calls_ja\n",
    "GROUP BY transcription_status\n",
    "ORDER BY call_count DESC;\n"
   ]
  },
  {
   "cell_type": "markdown",
   "id": "ce110000-1111-2222-3333-ffffff000010",
   "metadata": {
    "collapsed": false,
    "name": "cell10"
   },
   "source": [
    "## Cortex関数による高度な分析\n",
    "\n",
    "### ここでは、様々なCortex AI関数を使用して、文字起こしされたデータから有意義なインサイトを抽出します。\n",
    "### AI_SENTIMENT関数で感情分析を実施\n",
    "![img](https://lh3.googleusercontent.com/pw/AP1GczNfs3g0EdxWd-rrxNUsc4qloRmIe6DUIYzSavgoi3-WNRucpaC6w3aMNxTiLUYc3FZxEJSMZuaHvmZKjzRE1VmkQYXJvEXeX42WexNevP1pWmNoaxE3N1PJTXCLqBm9eKjp5HxleU15NIlZyd1Ut1g=w2674-h1498-s-no-gm?authuser=0)"
   ]
  },
  {
   "cell_type": "code",
   "execution_count": null,
   "id": "7aa78efe-93f6-4e8d-bf07-aed435592725",
   "metadata": {
    "language": "sql",
    "name": "cell21",
    "vscode": {
     "languageId": "sql"
    }
   },
   "outputs": [],
   "source": [
    "WITH base AS (\n",
    "    SELECT\n",
    "        call_id,\n",
    "        transcript_text,\n",
    "        AI_SENTIMENT(\n",
    "            transcript_text,\n",
    "            ['Support Agent','Product','Company']\n",
    "        ) AS sentiment_score\n",
    "    FROM ai_transcribed_calls_ja\n",
    "),\n",
    "category_scores AS (\n",
    "    SELECT\n",
    "        call_id,\n",
    "        sentiment_score,\n",
    "        value:name::string  AS category_name,\n",
    "        value:sentiment::string AS category_sentiment\n",
    "    FROM base,\n",
    "         LATERAL FLATTEN(input => sentiment_score:categories)\n",
    ")\n",
    "SELECT\n",
    "    call_id,\n",
    "    sentiment_score,\n",
    "    MAX(CASE WHEN category_name = 'overall'       THEN category_sentiment END) AS overall_sentiment,\n",
    "    MAX(CASE WHEN category_name = 'Company'       THEN category_sentiment END) AS company_sentiment,\n",
    "    MAX(CASE WHEN category_name = 'Product'       THEN category_sentiment END) AS product_sentiment,\n",
    "    MAX(CASE WHEN category_name = 'Support Agent' THEN category_sentiment END) AS support_agent_sentiment\n",
    "FROM category_scores\n",
    "GROUP BY call_id, sentiment_score;\n"
   ]
  },
  {
   "cell_type": "markdown",
   "id": "ac829b8b-83e2-4fb3-944c-982b33b62dd6",
   "metadata": {
    "collapsed": false,
    "name": "cell32"
   },
   "source": [
    "### Complete関数を利用した複雑な処理\n",
    "![img](https://lh3.googleusercontent.com/pw/AP1GczM5fvR3T9cm4akFBEgiVw4ShYsgQ1a6HzMip1zOjEccBORjQxKrVmgpg5iZ79BUk03EvQTIU8FhsBhX-Sar3rk2vzFVKakeFS7qUP1mW3Qm7A6Ut_jbgIh6Tt7rnYQimPM2WRAmG2gkBifPGNknsyA=w2674-h1498-s-no-gm?authuser=0)"
   ]
  },
  {
   "cell_type": "code",
   "execution_count": null,
   "id": "c87a87c5-6ff0-4e43-ab26-76f65b49698a",
   "metadata": {
    "language": "sql",
    "name": "cell28",
    "vscode": {
     "languageId": "sql"
    }
   },
   "outputs": [],
   "source": [
    "-- 🚀 文字起こしに対して最適化された高度な AI 分析を実行しています...\n",
    "-- 単一のSQL ステートメントで最終テーブルを作成します。\n",
    "CREATE OR REPLACE TABLE comprehensive_call_analysis_ja AS\n",
    "\n",
    "-- Step 1: まず、AIに渡す選択肢となるエージェント名のリストをJSON配列文字列として作成\n",
    "WITH agent_list_cte AS (\n",
    "    SELECT\n",
    "        TO_JSON(ARRAY_AGG(DISTINCT agent_name)) AS agent_list_json\n",
    "    FROM\n",
    "        call_center_analytics_db.analytics.support_agents\n",
    "),\n",
    "\n",
    "-- Step 2: AI分析の本体。CROSS JOINで全行にエージェントリストを結合し、動的にJSONスキーマを生成\n",
    "base AS (\n",
    "    SELECT\n",
    "        call_id,\n",
    "        transcript_text,\n",
    "        -- word_count,\n",
    "        AI_SENTIMENT(transcript_text, ['Support Agent','Product','Company']) AS sentiment_result,\n",
    "        AI_COMPLETE(\n",
    "            model => 'claude-4-sonnet', -- より高速でコスト効率の良いSonnetモデルを推奨\n",
    "            prompt => '以下のコールセンターでの会話を分析し、指定されたJSON形式で包括的な情報を抽出してください。会話の書き起こし： ' || transcript_text,\n",
    "            model_parameters => {'temperature': 0.1, 'max_tokens': 4096},\n",
    "            -- ここで動的に生成したJSONスキーマ文字列をPARSE_JSONで渡す\n",
    "            response_format => PARSE_JSON(\n",
    "                -- 文字列結合(||)を使い、agent_nameのenum部分に動的にリストを埋め込む\n",
    "                '{\n",
    "                    \"type\": \"json\",\n",
    "                    \"schema\": {\n",
    "                        \"type\": \"object\",\n",
    "                        \"properties\": {\n",
    "                            \"call_summary\": {\"type\": \"string\", \"description\": \"この会話内容を100文字程度の箇条書きで要約してください。\"},\n",
    "                            \"sentiment_score\": {\n",
    "                                \"type\": \"number\",\n",
    "                                \"description\": \"コールセンターの会話からセンチメントスコアを1〜10の10段階で総合評価してください。数値のスコアのみ。判断できない場合はnullを返す。\"\n",
    "                            },\n",
    "                            \"call_analysis\": {\n",
    "                                \"type\": \"object\",\n",
    "                                \"properties\": {\n",
    "                                    \"call_type\": {\"type\": \"string\", \"enum\": [\"inbound\", \"outbound\", \"transfer\"]},\n",
    "                                    \"customer_name\": {\"type\": \"string\"},\n",
    "                                    \"agent_name\": {\"type\": \"string\", \"enum\": ' || agent_list_cte.agent_list_json || '},\n",
    "                                    \"primary_intent\": {\"type\": \"string\", \"enum\": [\"billing\", \"technical_support\", \"complaint\", \"information\", \"sales\", \"cancellation\", \"other\"]},\n",
    "                                    \"urgency_level\": {\"type\": \"string\", \"enum\": [\"low\", \"medium\", \"high\", \"critical\"]},\n",
    "                                    \"issue_resolved\": {\"type\": \"string\", \"enum\": [\"yes\", \"no\", \"partial\"]},\n",
    "                                    \"escalation_required\": {\"type\": \"string\", \"enum\": [\"yes\", \"no\"]},\n",
    "                                    \"customer_satisfaction\": {\"type\": \"string\", \"enum\": [\"satisfied\", \"neutral\", \"dissatisfied\"]},\n",
    "                                    \"call_duration_estimate\": {\"type\": \"string\", \"enum\": [\"short\", \"medium\", \"long\"]},\n",
    "                                    \"key_issues\": {\"type\": \"array\", \"items\": {\"type\": \"string\"}},\n",
    "                                    \"action_items\": {\"type\": \"array\", \"items\": {\"type\": \"string\"}},\n",
    "                                    \"monetary_amounts\": {\"type\": \"array\", \"items\": {\"type\": \"string\"}},\n",
    "                                    \"appointment_scheduled\": {\"type\": \"string\", \"enum\": [\"yes\", \"no\"]},\n",
    "                                    \"callback_requested\": {\"type\": \"string\", \"enum\": [\"yes\", \"no\"]}\n",
    "                                }\n",
    "                            },\n",
    "                            \"agent_performance_score\": {\n",
    "                                \"type\": \"number\",\n",
    "                                \"description\": \"オペレーターのパフォーマンスを1〜10の10段階で総合評価してください。数値のスコアのみ。判断できない場合はnullを返す。\"\n",
    "                            },\n",
    "                            \"improvement_opportunities\": {\n",
    "                                \"type\": \"string\",\n",
    "                                \"items\": {\"type\": \"string\"},\n",
    "                                \"description\": \"この会話における、具体的な改善点を3つ箇条書きで挙げてください。\"\n",
    "                            }\n",
    "                        },\n",
    "                        \"required\": [\"call_summary\", \"sentiment_score\", \"call_analysis\", \"agent_performance_score\", \"improvement_opportunities\"]\n",
    "                    }\n",
    "                }'\n",
    "            )\n",
    "        ) AS ai_comprehensive_analysis,\n",
    "        CURRENT_TIMESTAMP() AS analysis_timestamp\n",
    "    FROM\n",
    "        ai_transcribed_calls_ja\n",
    "    -- CROSS JOINを使い、agent_list_cteの結果(1行)をai_transcribed_calls_jaの全行に結合する\n",
    "    CROSS JOIN\n",
    "        agent_list_cte\n",
    "    WHERE\n",
    "        transcription_status = 'SUCCESS'\n",
    "        AND transcript_text IS NOT NULL\n",
    "        AND LENGTH(transcript_text) > 50\n",
    "),\n",
    "\n",
    "-- Step 3: センチメントスコアを行から列に変換 (変更なし)\n",
    "sentiments AS (\n",
    "    SELECT\n",
    "        b.call_id,\n",
    "        MAX(CASE WHEN f.value:name::string = 'overall' THEN f.value:sentiment::string END) AS overall_sentiment,\n",
    "        MAX(CASE WHEN f.value:name::string = 'Company' THEN f.value:sentiment::string END) AS company_sentiment,\n",
    "        MAX(CASE WHEN f.value:name::string = 'Product' THEN f.value:sentiment::string END) AS product_sentiment,\n",
    "        MAX(CASE WHEN f.value:name::string = 'Support Agent' THEN f.value:sentiment::string END) AS support_agent_sentiment\n",
    "    FROM\n",
    "        base AS b,\n",
    "        LATERAL FLATTEN(input => b.sentiment_result:categories) AS f\n",
    "    GROUP BY\n",
    "        b.call_id\n",
    ")\n",
    "\n",
    "-- Step 4: 全てのデータを結合して最終的なテーブルを作成\n",
    "SELECT\n",
    "    b.call_id,\n",
    "    b.transcript_text,\n",
    "    b.sentiment_result,\n",
    "    s.overall_sentiment,\n",
    "    s.company_sentiment,\n",
    "    s.product_sentiment,\n",
    "    s.support_agent_sentiment,\n",
    "    b.ai_comprehensive_analysis:call_summary::string AS call_summary,\n",
    "    b.ai_comprehensive_analysis:sentiment_score::number AS sentiment_score,\n",
    "    b.ai_comprehensive_analysis:call_analysis AS call_analysis,\n",
    "    TRY_CAST(b.ai_comprehensive_analysis:agent_performance_score::varchar AS NUMBER(3,1)) AS agent_performance_score,\n",
    "    b.ai_comprehensive_analysis:improvement_opportunities::variant AS improvement_opportunities,\n",
    "    b.analysis_timestamp\n",
    "FROM\n",
    "    base b\n",
    "LEFT JOIN\n",
    "    sentiments s ON b.call_id = s.call_id;"
   ]
  },
  {
   "cell_type": "code",
   "execution_count": null,
   "id": "734ee269-6c10-4aaa-bc1e-063b05222424",
   "metadata": {
    "language": "sql",
    "name": "cell23",
    "vscode": {
     "languageId": "sql"
    }
   },
   "outputs": [],
   "source": [
    "-- 内容を確認する\n",
    "select * from comprehensive_call_analysis_ja;"
   ]
  },
  {
   "cell_type": "code",
   "execution_count": null,
   "id": "ce110000-1111-2222-3333-ffffff000012",
   "metadata": {
    "language": "sql",
    "name": "cell13",
    "vscode": {
     "languageId": "sql"
    }
   },
   "outputs": [],
   "source": [
    "-- バリアントのカラムを展開する\n",
    "ALTER TABLE comprehensive_call_analysis_ja\n",
    "ADD COLUMN \n",
    "    call_type STRING,\n",
    "    customer_name STRING,\n",
    "    agent_name STRING,\n",
    "    primary_intent STRING,\n",
    "    urgency_level STRING,\n",
    "    issue_resolved STRING,\n",
    "    escalation_required STRING,\n",
    "    customer_satisfaction STRING;\n",
    "\n",
    "UPDATE comprehensive_call_analysis_ja\n",
    "SET\n",
    "    call_type = call_analysis:call_type::STRING,\n",
    "    customer_name = call_analysis:customer_name::STRING,\n",
    "    agent_name = call_analysis:agent_name::STRING,\n",
    "    primary_intent = call_analysis:primary_intent::STRING,\n",
    "    urgency_level = call_analysis:urgency_level::STRING,\n",
    "    issue_resolved = call_analysis:issue_resolved::STRING,\n",
    "    escalation_required = call_analysis:escalation_required::STRING,\n",
    "    customer_satisfaction = call_analysis:customer_satisfaction::STRING;"
   ]
  },
  {
   "cell_type": "code",
   "execution_count": null,
   "id": "a5c8e8e3-6f99-4522-8a59-c28b9073aa24",
   "metadata": {
    "language": "sql",
    "name": "cell24",
    "vscode": {
     "languageId": "sql"
    }
   },
   "outputs": [],
   "source": [
    "-- 再度確認する\n",
    "select * from comprehensive_call_analysis_ja;"
   ]
  },
  {
   "cell_type": "code",
   "execution_count": null,
   "id": "ce110000-1111-2222-3333-ffffff000013",
   "metadata": {
    "language": "sql",
    "name": "cell14",
    "vscode": {
     "languageId": "sql"
    }
   },
   "outputs": [],
   "source": [
    "-- 📊 分析のサマリー\n",
    "SELECT \n",
    "    COUNT(*) as total_calls,\n",
    "    ROUND(AVG(sentiment_score), 3) as avg_sentiment,\n",
    "    ROUND(AVG(agent_performance_score), 1) as avg_agent_score,\n",
    "    COUNT(DISTINCT agent_name) as unique_agents,\n",
    "    COUNT(DISTINCT primary_intent) as unique_call_types\n",
    "FROM comprehensive_call_analysis_ja;\n"
   ]
  },
  {
   "cell_type": "markdown",
   "id": "ce110000-1111-2222-3333-ffffff000014",
   "metadata": {
    "collapsed": false,
    "name": "cell15"
   },
   "source": [
    "## 重要な知見と傾向の発見\n",
    "\n",
    "データを分析し、興味深い傾向や実用的な知見を明らかにしましょう。"
   ]
  },
  {
   "cell_type": "code",
   "execution_count": null,
   "id": "ce110000-1111-2222-3333-ffffff000015",
   "metadata": {
    "language": "sql",
    "name": "cell16",
    "vscode": {
     "languageId": "sql"
    }
   },
   "outputs": [],
   "source": [
    "-- 🏆 エージェントごとのパフォーマンス分析\n",
    "SELECT \n",
    "    agent_name,\n",
    "    COUNT(*) as total_calls,\n",
    "    ROUND(AVG(sentiment_score), 3) as avg_sentiment,\n",
    "    ROUND(AVG(agent_performance_score), 1) as avg_performance_score,\n",
    "    \n",
    "    -- 解決率\n",
    "    SUM(CASE WHEN issue_resolved = 'yes' THEN 1 ELSE 0 END) as resolved_calls,\n",
    "    ROUND(SUM(CASE WHEN issue_resolved = 'yes' THEN 1 ELSE 0 END) / COUNT(*) * 100, 1) as resolution_rate,\n",
    "    \n",
    "    -- 顧客満足度\n",
    "    SUM(CASE WHEN customer_satisfaction = 'satisfied' THEN 1 ELSE 0 END) as satisfied_customers,\n",
    "    ROUND(SUM(CASE WHEN customer_satisfaction = 'satisfied' THEN 1 ELSE 0 END) / COUNT(*) * 100, 1) as satisfaction_rate,\n",
    "    \n",
    "    -- エスカレーション率\n",
    "    SUM(CASE WHEN escalation_required = 'yes' THEN 1 ELSE 0 END) as escalations,\n",
    "    ROUND(SUM(CASE WHEN escalation_required = 'yes' THEN 1 ELSE 0 END) / COUNT(*) * 100, 1) as escalation_rate\n",
    "    \n",
    "FROM comprehensive_call_analysis_ja\n",
    "WHERE agent_name != 'Not Available' AND agent_name IS NOT NULL\n",
    "GROUP BY agent_name\n",
    "ORDER BY avg_performance_score DESC;\n"
   ]
  },
  {
   "cell_type": "code",
   "execution_count": null,
   "id": "d91268fe-d919-4ed6-8787-1828f1ada0e7",
   "metadata": {
    "language": "sql",
    "name": "cell17",
    "vscode": {
     "languageId": "sql"
    }
   },
   "outputs": [],
   "source": [
    "-- 📊 コール内容別分析\n",
    "WITH call_patterns AS (\n",
    "    SELECT \n",
    "        primary_intent,\n",
    "        urgency_level,\n",
    "        COUNT(*) as call_count,\n",
    "        ROUND(AVG(sentiment_score), 3) as avg_sentiment,\n",
    "        ROUND(AVG(agent_performance_score), 1) as avg_agent_score,\n",
    "        \n",
    "        -- 解決率\n",
    "        ROUND(SUM(CASE WHEN issue_resolved = 'yes' THEN 1 ELSE 0 END) / COUNT(*) * 100, 1) as resolution_rate,\n",
    "        \n",
    "        -- 満足率\n",
    "        ROUND(SUM(CASE WHEN customer_satisfaction = 'satisfied' THEN 1 ELSE 0 END) / COUNT(*) * 100, 1) as satisfaction_rate,\n",
    "        \n",
    "        -- エスカレーション率\n",
    "        ROUND(SUM(CASE WHEN escalation_required = 'yes' THEN 1 ELSE 0 END) / COUNT(*) * 100, 1) as escalation_rate\n",
    "        \n",
    "    FROM comprehensive_call_analysis_ja\n",
    "    WHERE primary_intent IS NOT NULL AND primary_intent != 'Not Available'\n",
    "    GROUP BY primary_intent, urgency_level\n",
    ")\n",
    "SELECT \n",
    "    primary_intent,\n",
    "    urgency_level,\n",
    "    call_count,\n",
    "    avg_sentiment,\n",
    "    avg_agent_score,\n",
    "    resolution_rate || '%' as resolution_rate_pct,\n",
    "    satisfaction_rate || '%' as satisfaction_rate_pct,\n",
    "    escalation_rate || '%' as escalation_rate_pct,\n",
    "    \n",
    "    -- Performance flags\n",
    "    CASE \n",
    "        WHEN resolution_rate < 70 THEN '⚠️ Low Resolution'\n",
    "        WHEN satisfaction_rate < 60 THEN '⚠️ Low Satisfaction'\n",
    "        WHEN escalation_rate > 30 THEN '⚠️ High Escalation'\n",
    "        ELSE '✅ Good Performance'\n",
    "    END as performance_flag\n",
    "    \n",
    "FROM call_patterns\n",
    "ORDER BY call_count DESC;\n"
   ]
  },
  {
   "cell_type": "markdown",
   "id": "5d9d4f63-caed-4158-9f2c-e45b50d31226",
   "metadata": {
    "collapsed": false,
    "name": "cell11"
   },
   "source": [
    "## AIエージェントから情報にアクセスする\n",
    "\n",
    "1. Cortex Search Serviceを作り、エージェントの応答内容にアクセス可能にする\n",
    "2. セマンティックビューを作成し、エージェントの対応評価のデータにアクセス可能にする"
   ]
  },
  {
   "cell_type": "markdown",
   "id": "fc81a92e-25b9-4cf0-9bb1-82898abb82dc",
   "metadata": {
    "collapsed": false,
    "name": "cell20"
   },
   "source": [
    "## Create Search Serviceを作成する\n",
    "### トランスクリプトをRAGとして検索できるようにする\n",
    "![img](https://lh3.googleusercontent.com/pw/AP1GczPRuvMbEGh0M9ZQSASJKibWGnN1LNOjm8btACEMsfjowiXT9WGtCYYHSExza112XuavYa0O5MvCdtvVpfPb32V1lvH3dbMFeiOAGJ2z-LQjWJhdmdY9cjUeCQkiI5FhExd_lCZkVKWl80XC9y5u3ro=w2674-h1498-s-no-gm?authuser=0)"
   ]
  },
  {
   "cell_type": "code",
   "execution_count": null,
   "id": "b151aa63-34a2-4edd-9700-f31b72f912d4",
   "metadata": {
    "language": "sql",
    "name": "cell22",
    "vscode": {
     "languageId": "sql"
    }
   },
   "outputs": [],
   "source": [
    "-- 通話トランスクリプト用の Cortex 検索サービスを作成する\n",
    "CREATE OR REPLACE CORTEX SEARCH SERVICE call_center_search_ja\n",
    "ON transcript_text\n",
    "ATTRIBUTES call_id, agent_name, customer_name, primary_intent, overall_sentiment, company_sentiment, product_sentiment, support_agent_sentiment, sentiment_score, customer_satisfaction\n",
    "WAREHOUSE = call_center_analytics_wh\n",
    "TARGET_LAG = '1 minute'\n",
    "AS (\n",
    "    SELECT \n",
    "        call_id,\n",
    "        agent_name,\n",
    "        customer_name, \n",
    "        primary_intent,\n",
    "        overall_sentiment,\n",
    "        company_sentiment,\n",
    "        product_sentiment,\n",
    "        support_agent_sentiment,\n",
    "        sentiment_score,\n",
    "        customer_satisfaction,\n",
    "        transcript_text\n",
    "    FROM comprehensive_call_analysis_ja\n",
    "    WHERE transcript_text IS NOT NULL\n",
    "    AND LENGTH(transcript_text) > 50\n",
    ");"
   ]
  },
  {
   "cell_type": "code",
   "execution_count": null,
   "id": "ebbbf942-a9f7-4d91-87ab-cf5cae94e681",
   "metadata": {
    "language": "sql",
    "name": "cell25",
    "vscode": {
     "languageId": "sql"
    }
   },
   "outputs": [],
   "source": [
    "-- サンプルクエリで検索サービスをテストする\n",
    "SELECT\n",
    "    SNOWFLAKE.CORTEX.SEARCH_PREVIEW(\n",
    "        'call_center_search_ja',\n",
    "        '{\n",
    "            \"query\": \"請求に関する苦情に対する否定的な感情\",\n",
    "            \"limit\": 5\n",
    "        }'\n",
    "    ) as search_results;"
   ]
  },
  {
   "cell_type": "markdown",
   "id": "16ac1a57-0911-4b68-ba65-ebbea74a40c5",
   "metadata": {
    "collapsed": false,
    "name": "cell30"
   },
   "source": [
    "## セマンティックビューを作成する\n",
    "### センチメント情報やエスカレーション率などの定量データにアクセスする\n",
    "![img](https://lh3.googleusercontent.com/pw/AP1GczPLDCXT0UdRP20P8av1qvA2Ld40EDCshCFGIFKGeH82LCizXLFCfmR_onmUbAzR0a0lI-qt4v-LTyZ6eWwZU40gz-ejdf5BjVGxMgyZVNk8GUwkgAUdb6Ft4-065vtY3nIfg_iihECuH6X6YoBMd8g=w2674-h1498-s-no-gm?authuser=0)"
   ]
  },
  {
   "cell_type": "code",
   "execution_count": null,
   "id": "9c867e53-ee1f-44eb-9f00-1a936950ec4a",
   "metadata": {
    "language": "sql",
    "name": "cell29",
    "vscode": {
     "languageId": "sql"
    }
   },
   "outputs": [],
   "source": [
    "CREATE OR REPLACE SEMANTIC VIEW CALL_CENTER_ANALYTICS_DB.ANALYTICS.CALL_CENTER_ANALYTICS_MODEL_JA\n",
    "  TABLES (\n",
    "    cca AS CALL_CENTER_ANALYTICS_DB.ANALYTICS.COMPREHENSIVE_CALL_ANALYSIS_JA\n",
    "      PRIMARY KEY (CALL_ID)\n",
    "      COMMENT = 'Main table containing transcribed call data with AI-extracted insights including sentiment analysis, agent performance metrics, and customer satisfaction scores'\n",
    "  )\n",
    "\n",
    "  FACTS (\n",
    "    cca.sentiment_score AS SENTIMENT_SCORE\n",
    "      COMMENT = 'Numerical sentiment score for the call on a 1–10 scale',\n",
    "    cca.agent_performance_score AS AGENT_PERFORMANCE_SCORE\n",
    "      COMMENT = 'Performance score for the agent on a 1–10 scale'\n",
    "  )\n",
    "\n",
    "  DIMENSIONS (\n",
    "    cca.call_id AS CALL_ID\n",
    "      COMMENT = 'Unique identifier for each call',\n",
    "    cca.agent_name AS AGENT_NAME\n",
    "      COMMENT = 'Name of the customer service agent handling the call',\n",
    "    cca.customer_name AS CUSTOMER_NAME\n",
    "      COMMENT = 'Name of the customer making the call',\n",
    "    cca.call_type AS CALL_TYPE\n",
    "      COMMENT = 'Inbound / outbound / transfer classification',\n",
    "    cca.primary_intent AS PRIMARY_INTENT\n",
    "      COMMENT = 'Primary reason for the call (billing, technical_support, complaint, information, sales, cancellation, other)',\n",
    "    cca.urgency_level AS URGENCY_LEVEL\n",
    "      COMMENT = 'Urgency level of the call',\n",
    "    cca.issue_resolved AS ISSUE_RESOLVED\n",
    "      COMMENT = 'Whether the customer issue was resolved during the call',\n",
    "    cca.escalation_required AS ESCALATION_REQUIRED\n",
    "      COMMENT = 'Whether the call required escalation to higher level support',\n",
    "    cca.customer_satisfaction AS CUSTOMER_SATISFACTION\n",
    "      COMMENT = 'Customer satisfaction level determined from call analysis',\n",
    "    cca.overall_sentiment AS OVERALL_SENTIMENT\n",
    "      COMMENT = 'Overall sentiment classification of the conversation',\n",
    "    cca.company_sentiment AS COMPANY_SENTIMENT\n",
    "      COMMENT = 'Sentiment toward the company',\n",
    "    cca.product_sentiment AS PRODUCT_SENTIMENT\n",
    "      COMMENT = 'Sentiment toward the product',\n",
    "    cca.support_agent_sentiment AS SUPPORT_AGENT_SENTIMENT\n",
    "      COMMENT = 'Sentiment toward the support agent',\n",
    "    cca.analysis_timestamp AS ANALYSIS_TIMESTAMP\n",
    "      COMMENT = 'Timestamp when the call analysis was completed'\n",
    "  )\n",
    "\n",
    "  METRICS (\n",
    "    cca.total_calls AS COUNT(*)\n",
    "      COMMENT = 'Total number of calls',\n",
    "    cca.avg_sentiment_score AS AVG(cca.sentiment_score)\n",
    "      COMMENT = 'Average sentiment score across calls',\n",
    "    cca.avg_agent_performance AS AVG(cca.agent_performance_score)\n",
    "      COMMENT = 'Average agent performance score',\n",
    "    cca.resolution_rate AS 100 * SUM(CASE WHEN cca.issue_resolved = 'yes' THEN 1 ELSE 0 END) / NULLIF(COUNT(*),0)\n",
    "      COMMENT = 'Percentage of calls with issues resolved successfully',\n",
    "    cca.satisfaction_rate AS 100 * SUM(CASE WHEN cca.customer_satisfaction = 'satisfied' THEN 1 ELSE 0 END) / NULLIF(COUNT(*),0)\n",
    "      COMMENT = 'Percentage of customers who were satisfied with the call',\n",
    "    cca.escalation_rate AS 100 * SUM(CASE WHEN cca.escalation_required = 'yes' THEN 1 ELSE 0 END) / NULLIF(COUNT(*),0)\n",
    "      COMMENT = 'Percentage of calls that required escalation',\n",
    "    cca.positive_sentiment_rate AS 100 * SUM(CASE WHEN LOWER(cca.overall_sentiment) = 'positive' THEN 1 ELSE 0 END) / NULLIF(COUNT(*),0)\n",
    "      COMMENT = 'Percentage of calls with positive overall sentiment'\n",
    "  )\n",
    "\n",
    "  COMMENT = 'Semantic model for call center analytics with AI transcription data, enabling natural language queries about call performance, agent effectiveness, and customer satisfaction'\n",
    "  COPY GRANTS;"
   ]
  },
  {
   "cell_type": "markdown",
   "id": "5221919a-d5b1-41ea-bae3-77b89fd377f2",
   "metadata": {
    "collapsed": false,
    "name": "cell31"
   },
   "source": [
    "## Cortex Agentを作成する\n",
    "### 上記で作成したCortex SearchとCortex AnalystをツールとしたAIエージェントを作成する\n",
    "![img](https://lh3.googleusercontent.com/pw/AP1GczMtNlFme2xdV6s8oBUYkWB9rXr-Q906Y0HQTdVB2SUe_zct6C7sUQZlsofw_V2iHVicSWWi4KAWVWdlFOJ1CdkmokQ3Q7GFmqIDe-gwJ_APvqtRDUjLXfDzgMLwENyJ-UUswd0xj5oxXTaAoLHDAJg=w2674-h1498-s-no-gm?authuser=0)"
   ]
  },
  {
   "cell_type": "code",
   "execution_count": null,
   "id": "60e0204c-c2ac-4016-99da-10b0e3b07624",
   "metadata": {
    "language": "sql",
    "name": "cell27",
    "vscode": {
     "languageId": "sql"
    }
   },
   "outputs": [],
   "source": [
    "CREATE OR REPLACE AGENT SNOWFLAKE_INTELLIGENCE.AGENTS.CALL_CENTER_AGENT_JA\n",
    "  COMMENT = 'コールセンター スーパーバイザー エージェント 　エージェントの対応評価のアクセスにはSemantic View を使用し、対応中のトランスクリプトのアクセスには Cortex Search を使用します。'\n",
    "  PROFILE = '{\"display_name\": \"コールセンター監督エージェント\", \"avatar\": \"headset.png\", \"color\": \"blue\"}'\n",
    "  FROM SPECIFICATION\n",
    "$$\n",
    "# モデル指定は省略（自動選択）\n",
    "\n",
    "orchestration:\n",
    "  budget:\n",
    "    seconds: 45\n",
    "    tokens: 24000\n",
    "\n",
    "instructions:\n",
    "  system: |\n",
    "    あなたはコールセンターのスーパーバイザーとして行動する。\n",
    "    目的はサポート担当者の業務改善である。担当者・顧客・通話の評価を正しく把握し、\n",
    "    改善提案、傾向の把握、エスカレーション抑制、顧客満足度の向上につながる助言を行う。\n",
    "    数値や割合の質問はセマンティックビューを使ってSQLで集計する。\n",
    "    会話内容の検証や根拠提示が必要なときはCortex Searchでトランスクリプトを参照する。\n",
    "    回答では数値に単位と期間を明記し、根拠テキストがある場合は短い抜粋を示す。\n",
    "  orchestration: |\n",
    "    「件数・平均・率・推移・〜別」はAnalystを優先。\n",
    "    「この通話の内容・発言の根拠・抜粋提示」はSearchを優先。\n",
    "    改善提案を求められた場合は、まず現状をAnalystで把握し、必要に応じてSearchで具体例を補足する。\n",
    "  response: |\n",
    "    日本語で簡潔に答える。専門用語を避ける。箇条書きは求められた場合のみ。\n",
    "\n",
    "tools:\n",
    "  - tool_spec:\n",
    "      type: \"cortex_analyst_text_to_sql\"\n",
    "      name: \"AnalystJA\"\n",
    "      description: \"自然言語→SQLでセマンティックビューを集計\"\n",
    "  - tool_spec:\n",
    "      type: \"cortex_search\"\n",
    "      name: \"SearchJA\"\n",
    "      description: \"通話トランスクリプト全文検索と要約\"\n",
    "\n",
    "tool_resources:\n",
    "  AnalystJA:\n",
    "    semantic_view: \"CALL_CENTER_ANALYTICS_DB.ANALYTICS.CALL_CENTER_ANALYTICS_MODEL_JA\"\n",
    "  SearchJA:\n",
    "    name: \"CALL_CENTER_ANALYTICS_DB.ANALYTICS.call_center_search_ja\"\n",
    "    max_results: \"8\"\n",
    "    title_column: \"primary_intent\"\n",
    "    id_column: \"call_id\"\n",
    "$$;\n"
   ]
  },
  {
   "cell_type": "markdown",
   "id": "ce110000-1111-2222-3333-ffffff000016",
   "metadata": {
    "collapsed": false,
    "name": "cell18"
   },
   "source": [
    "## まとめと次のステップ\n",
    "\n",
    "### このノートブックでは、まずAI_TRANSCRIBEとSnowflakeのCortex AI関数を組み合わせることで、以下の強力な機能が実現できることを示しました。\n",
    "\n",
    "✅ コールセンターの音声ファイルを高精度で**自動的に文字起こし**する  \n",
    "✅ 非構造化の会話データから**構造化された知見を抽出**する  \n",
    "✅ **パフォーマンスの傾向**と改善機会を特定する  \n",
    "✅ 異常や品質問題を**自動的に検知**する  \n",
    "✅ AI分析を用いて**実用的な改善提案を生成**する  \n",
    "✅ 経営層の意思決定のために**包括的なレポートを作成**する  \n",
    "\n",
    "---\n",
    "\n",
    "### AI_TRANSCRIBEの主な利点：\n",
    "- **インフラ管理が不要** - サーバーレスな文字起こし\n",
    "- **多言語対応** - 40以上の言語をサポート\n",
    "- **高精度** - 最新のAIモデルによる文字起こし\n",
    "- **スケーラブルな処理** - 大量の音声ファイルに対応\n",
    "- **統合された分析** - 他のCortex関数とのシームレスな連携\n"
   ]
  },
  {
   "cell_type": "markdown",
   "id": "da641e33-f158-4ab3-9aa1-e645c59e412e",
   "metadata": {
    "collapsed": false,
    "name": "cell26"
   },
   "source": [
    "### 次に、Cortex Search Serviceを作り、応答内容を検索可能に、セマンティックビューを作成し、構造化に整理したセンチメント情報などをアクセス可能にしました\n",
    "### Cortex Agentに上記のCortex Search Serviceとセマンティックビューを紐づけ、AIエージェントから利用できるようにしています\n",
    "\n",
    "---\n",
    "\n",
    "### 🔍 **Cortex Searchサービス**\n",
    "- **名前**： `call_center_search`\n",
    "- **目的**： 通話記録に対するセマンティック検索\n",
    "- **用途**： 自然言語クエリに基づき、関連する通話を発見\n",
    "\n",
    "---\n",
    "\n",
    "### 📊 **セマンティックビュー**\n",
    "- **場所**： `CALL_CENTER_ANALYTICS_DB.ANALYTICS.CALL_CENTER_ANALYTICS_MODEL_JA`\n",
    "- **目的**： 自然言語からSQLへのクエリ変換を有効化\n",
    "- **用途**： コールセンターの指標について平易な言葉で質問\n",
    "\n",
    "---\n",
    "\n",
    "### 📈 **作成されたビュー**\n",
    "- `call_center_kpis`： 全体的なKPIの概要\n",
    "- `agent_performance_summary`： 詳細分析のためのエージェントのパフォーマンス指標\n"
   ]
  },
  {
   "cell_type": "markdown",
   "id": "0f77c8da-87ce-44a1-8a3b-41bfdcee3463",
   "metadata": {
    "collapsed": false,
    "name": "cell33"
   },
   "source": [
    "## 次のステップ\n",
    "### 作成したCortex Agentの詳細を確認し、Snowflake Intelligenceから利用可能にします\n",
    "左側のメニューから、AIとML > エージェントを選択し、CALL_CENTER_AGENT_JAのエージェントを選択して詳細を確認します"
   ]
  }
 ],
 "metadata": {
  "language_info": {
   "name": "python"
  },
  "lastEditStatus": {
   "authorEmail": "ryu.yoshida@snowflake.com",
   "authorId": "8067274256351",
   "authorName": "FSI_JAPAN",
   "lastEditTime": 1761484888961,
   "notebookId": "aaew4a6axynswljygjo4",
   "sessionId": "1238e00d-6fcb-4d06-812e-7b92e2ec18ed"
  }
 },
 "nbformat": 4,
 "nbformat_minor": 2
}
